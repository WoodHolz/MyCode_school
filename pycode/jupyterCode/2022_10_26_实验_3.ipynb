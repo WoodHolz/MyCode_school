{
 "cells": [
  {
   "cell_type": "code",
   "execution_count": null,
   "id": "f205a79b",
   "metadata": {},
   "outputs": [],
   "source": [
    "x = int(input())\n",
    "ans = 0\n",
    "i = 0\n",
    "while i <= x:\n",
    "    ans += i\n",
    "    i += 1\n",
    "print('sum =', ans)"
   ]
  },
  {
   "cell_type": "code",
   "execution_count": 42,
   "id": "731e0488",
   "metadata": {},
   "outputs": [
    {
     "name": "stdout",
     "output_type": "stream",
     "text": [
      "102\n",
      "201\n"
     ]
    }
   ],
   "source": [
    "# 7-2 逆序的三位数\n",
    "s = input()\n",
    "a = [0 for i in range(len(s))]\n",
    "i = len(s) - 1\n",
    "n = 0\n",
    "\n",
    "while n < len(s):\n",
    "    a[n] = s[i]\n",
    "    n += 1\n",
    "    i -= 1\n",
    "ans = ''.join(a)\n",
    "print(int(ans))"
   ]
  },
  {
   "cell_type": "code",
   "execution_count": 53,
   "id": "bf6b611d",
   "metadata": {},
   "outputs": [
    {
     "name": "stdout",
     "output_type": "stream",
     "text": [
      "700\n",
      "7\n"
     ]
    }
   ],
   "source": [
    "# 7-2 逆序的三位数方法2\n",
    "s = input()\n",
    "i = len(s)\n",
    "a = ''\n",
    "an = '0'\n",
    "while i - 1 > -1:\n",
    "    a = s[i - 1]\n",
    "    #print(a)\n",
    "    an += a\n",
    "    i -= 1\n",
    "print(int(an))"
   ]
  },
  {
   "cell_type": "code",
   "execution_count": 62,
   "id": "edf146cc",
   "metadata": {},
   "outputs": [
    {
     "name": "stdout",
     "output_type": "stream",
     "text": [
      "3\n",
      "pow(3, 0) = 1\n",
      "pow(3, 1) = 3\n",
      "pow(3, 2) = 9\n",
      "pow(3, 3) = 27\n"
     ]
    }
   ],
   "source": [
    "# 7-3 生成3的乘方表\n",
    "s = int(input())\n",
    "for i in range(s + 1):\n",
    "    # print(i)\n",
    "    print('pow(3,%d) = %d'% (i, 3 ** i))"
   ]
  },
  {
   "cell_type": "code",
   "execution_count": 3,
   "id": "b2dc62a7",
   "metadata": {},
   "outputs": [
    {
     "name": "stdout",
     "output_type": "stream",
     "text": [
      "20\n",
      "32.66\n"
     ]
    }
   ],
   "source": [
    "x  = int(input())\n",
    "a = 2\n",
    "b = 1\n",
    "ans = 0\n",
    "for i in range(x):\n",
    "    ans += a / b\n",
    "    t = a\n",
    "    a += b\n",
    "    b = t\n",
    "print('{:.2f}'. format(ans))"
   ]
  },
  {
   "cell_type": "code",
   "execution_count": 26,
   "id": "988498f3",
   "metadata": {},
   "outputs": [
    {
     "name": "stdout",
     "output_type": "stream",
     "text": [
      "2 3\n",
      "1 6\n"
     ]
    }
   ],
   "source": [
    "a, b = input().split( )\n",
    "if int(a) > int(b):\n",
    "    t = int(a)\n",
    "    a = int(b)\n",
    "    b = t\n",
    "i = int(a)\n",
    "try:\n",
    "    while i > -1:\n",
    "        if int(a) % i == 0 and int(b) % i == 0:\n",
    "            m = i\n",
    "            break\n",
    "        i -= 1\n",
    "    c = int(b)\n",
    "    while True:\n",
    "        if c % int(a) == 0 and c % int(b) == 0:\n",
    "            break\n",
    "        c += 1\n",
    "    print(m, c)\n",
    "except:\n",
    "    print('')"
   ]
  },
  {
   "cell_type": "code",
   "execution_count": 10,
   "id": "a27a6354",
   "metadata": {},
   "outputs": [
    {
     "name": "stdout",
     "output_type": "stream",
     "text": [
      "3\n",
      "10\n"
     ]
    }
   ],
   "source": [
    "x = int(input())\n",
    "ans = 1\n",
    "for i in range(x - 1):\n",
    "    ans = 2 * (ans + 1)\n",
    "print(ans)"
   ]
  },
  {
   "cell_type": "code",
   "execution_count": 24,
   "id": "000bc9e9",
   "metadata": {
    "scrolled": true
   },
   "outputs": [
    {
     "name": "stdout",
     "output_type": "stream",
     "text": [
      "5\n",
      "product = 120\n"
     ]
    }
   ],
   "source": [
    "x = int(input())\n",
    "ans = 1\n",
    "for i in range(x):\n",
    "    ans *= (i + 1)\n",
    "print('product =',ans)"
   ]
  },
  {
   "cell_type": "code",
   "execution_count": 10,
   "id": "36cae16f",
   "metadata": {},
   "outputs": [
    {
     "name": "stdout",
     "output_type": "stream",
     "text": [
      "5\n",
      "8\n"
     ]
    }
   ],
   "source": [
    "n = int(input())\n",
    "ans = 1\n",
    "for i in range(n):\n",
    "    if 0 == (i + 1) % 2:\n",
    "        ans *= (i + 1)\n",
    "print('%d'% ans)"
   ]
  },
  {
   "cell_type": "code",
   "execution_count": 30,
   "id": "7fda6fef",
   "metadata": {},
   "outputs": [
    {
     "name": "stdout",
     "output_type": "stream",
     "text": [
      "0\n",
      "average = 0.00\n",
      "count = 0\n"
     ]
    }
   ],
   "source": [
    "n = int(input())\n",
    "count = 0\n",
    "avr = 0\n",
    "if n > 0:\n",
    "    s = input().split(' ')\n",
    "    sum = 0\n",
    "\n",
    "    for i in range(n):\n",
    "        #print(s[i])\n",
    "        sum = int(s[i]) + sum\n",
    "        #print(sum) \n",
    "        avr = sum / n\n",
    "        if int(s[i]) < 60:\n",
    "            count = count + 1\n",
    "    print('average =', '{:.2f}'.format(avr))\n",
    "    print('count =', count)\n",
    "else:\n",
    "    print('average =', '{:.2f}'.format(avr))\n",
    "    print('count =', count)"
   ]
  },
  {
   "cell_type": "code",
   "execution_count": 31,
   "id": "0b2666ea",
   "metadata": {},
   "outputs": [
    {
     "name": "stdout",
     "output_type": "stream",
     "text": [
      "3\n",
      "sum = 10\n"
     ]
    }
   ],
   "source": [
    "x = int(input())\n",
    "a = 0; b = 0; i = 0; ii = 0\n",
    "while i < x:\n",
    "    while ii < (i + 1):\n",
    "        b += (ii + 1)\n",
    "        ii += 1\n",
    "    a += b\n",
    "    i += 1\n",
    "print('sum =', a)"
   ]
  },
  {
   "cell_type": "code",
   "execution_count": 16,
   "id": "3d0df5ba",
   "metadata": {
    "scrolled": true
   },
   "outputs": [
    {
     "name": "stdout",
     "output_type": "stream",
     "text": [
      "3\n",
      "153\n",
      "370\n",
      "371\n",
      "407\n"
     ]
    }
   ],
   "source": [
    "x = int(input())\n",
    "i = 0; a = 0; b = 0; c = 0\n",
    "d = 0; e = 0; sum = 0\n",
    "if x > 5 or x < 3:\n",
    "    print('error')\n",
    "else:\n",
    "    if 3 == x:\n",
    "        i = 100\n",
    "        while i < 1000:\n",
    "            a = i // 100\n",
    "            b = (i % 100) // 10\n",
    "            c = i % 10\n",
    "            if i == a ** x + b ** x + c ** x:\n",
    "                print(i)\n",
    "            i += 1\n",
    "    elif 4 == x:\n",
    "        i = 1000\n",
    "        while i < 10000:\n",
    "            a = i // 1000\n",
    "            b = (i % 1000) // 100\n",
    "            c = (i % 100) // 10\n",
    "            d = i % 10\n",
    "            sum = a ** x + b ** x + c ** x \\\n",
    "            + d ** x\n",
    "            if sum == i:\n",
    "                print(i)\n",
    "            i += 1\n",
    "    elif 5 == x:\n",
    "        i = 10000\n",
    "        while i < 100000:\n",
    "            a = i // 10000\n",
    "            b = (i % 10000) // 1000\n",
    "            c = (i % 1000) // 100\n",
    "            d = (i % 100) // 10\n",
    "            e = i % 10\n",
    "            sum = a ** x + b ** x + c ** x \\\n",
    "            + d ** x + e ** x\n",
    "            if sum == i:\n",
    "                print(i)\n",
    "            i += 1\n",
    "                \n",
    "            "
   ]
  },
  {
   "cell_type": "code",
   "execution_count": 7,
   "id": "9a20b666",
   "metadata": {},
   "outputs": [
    {
     "name": "stdout",
     "output_type": "stream",
     "text": [
      "45\n",
      "men = 0, women = 15, child = 30\n",
      "men = 3, women = 10, child = 32\n",
      "men = 6, women = 5, child = 34\n",
      "men = 9, women = 0, child = 36\n"
     ]
    }
   ],
   "source": [
    "x = int(input())\n",
    "end = 0\n",
    "for a in range(x):\n",
    "    for b in range(x):\n",
    "        for c in range(x):\n",
    "            if x == (3 * a) + (2 * b) + c / 2 and x == a + b + c:\n",
    "                print('men = %d, women = %d, child = %d'% \\\n",
    "                     (a, b, c))\n",
    "                end = 1\n",
    "if end == 0:\n",
    "    print('None')"
   ]
  },
  {
   "cell_type": "code",
   "execution_count": 25,
   "id": "aee74313",
   "metadata": {},
   "outputs": [
    {
     "name": "stdout",
     "output_type": "stream",
     "text": [
      "100\n",
      "    2    3    5    7   11   13   17   19   23   29   31   37   41   43   47\n",
      "   53   59   61   67   71   73   79   83   89   97"
     ]
    }
   ],
   "source": [
    "#7-13 显示指定范围内的素数\n",
    "x = int(input())\n",
    "if x < 3: print('NO')\n",
    "else:\n",
    "    t = 0; c = 0\n",
    "    arr = []\n",
    "    for i in range(x):\n",
    "        if i == 2: arr.append(2); c += 1\n",
    "        for ii in range(2, i):\n",
    "            if i % ii == 0: break;\n",
    "            if ii == i - 1:\n",
    "                arr.append(i); c += 1\n",
    "\n",
    "    if c > 100: print('OVERFLOW')\n",
    "    else:\n",
    "        cn = 0\n",
    "        while(True):\n",
    "            if t == 15: t = 0; print()\n",
    "            print('%5d'%arr[cn], end = ''); cn += 1\n",
    "            if cn == c: break\n",
    "            t += 1\n",
    "    "
   ]
  },
  {
   "cell_type": "code",
   "execution_count": 70,
   "id": "16399c6e",
   "metadata": {},
   "outputs": [
    {
     "name": "stdout",
     "output_type": "stream",
     "text": [
      "6\n",
      "               1\n",
      "            1     1\n",
      "         1     2     1\n",
      "      1     3     3     1\n",
      "   1     4     6     4     1\n",
      "1     5    10    10     5     1\n"
     ]
    },
    {
     "data": {
      "text/plain": [
       "'\\nn=int(input())\\nx=[]\\nc=0\\nfor i in range(n):\\n    print(\" \"*3*(n-i-1),end=\\'\\')#根据规律发现题目要求的格式，即第一个数字的位置\\n    a=[1]\\n    x.append(a)#第一个数字为“1”\\n    for j in range(1,i):\\n        a.append(x[i-1][j-1]+x[i-1][j])#依次往列表后加上杨辉三角数\\n    a.append(1)#记得最后一位是“1”\\n    if i==0:#把第一行单独拿出来输出，毕竟每一行列表里前后都有“1”\\n        print(\"%d\"%1)\\n        continue\\n    c=len(a)#计算列表内元素个数\\n    b=list(map(int,a))#将元素转变为int类型\\n    for k in range(c):\\n        if k==0:\\n            print(b[k],end=\\'\\')\\n            continue\\n        print(\"%6d\"%b[k],end=\\'\\')\\n    print()\\n'"
      ]
     },
     "execution_count": 70,
     "metadata": {},
     "output_type": "execute_result"
    }
   ],
   "source": [
    "\n",
    "r = int(input())\n",
    "arr = []; c = 0\n",
    "for i in range(r):\n",
    "    for ii in range(r - i - 1):\n",
    "        print('   ', end = '')\n",
    "    x = [1]\n",
    "    arr.append(x)\n",
    "    for j in range(1, i):\n",
    "        x.append(arr[i - 1][j - 1] + arr[i - 1][j])\n",
    "    x.append(1)\n",
    "    if i == 0:\n",
    "        print(1); continue\n",
    "    c = len(x)\n",
    "    for k in range(c):\n",
    "        if k == 0:\n",
    "            print(x[k], end = '')\n",
    "            continue\n",
    "        print('%6d'% x[k], end = '')\n",
    "    print()\n",
    "\n",
    "'''\n",
    "n=int(input())\n",
    "x=[]\n",
    "c=0\n",
    "for i in range(n):\n",
    "    print(\" \"*3*(n-i-1),end='')#根据规律发现题目要求的格式，即第一个数字的位置\n",
    "    a=[1]\n",
    "    x.append(a)#第一个数字为“1”\n",
    "    for j in range(1,i):\n",
    "        a.append(x[i-1][j-1]+x[i-1][j])#依次往列表后加上杨辉三角数\n",
    "    a.append(1)#记得最后一位是“1”\n",
    "    if i==0:#把第一行单独拿出来输出，毕竟每一行列表里前后都有“1”\n",
    "        print(\"%d\"%1)\n",
    "        continue\n",
    "    c=len(a)#计算列表内元素个数\n",
    "    b=list(map(int,a))#将元素转变为int类型\n",
    "    for k in range(c):\n",
    "        if k==0:\n",
    "            print(b[k],end='')\n",
    "            continue\n",
    "        print(\"%6d\"%b[k],end='')\n",
    "    print()\n",
    "'''"
   ]
  },
  {
   "cell_type": "code",
   "execution_count": 73,
   "id": "9654d86d",
   "metadata": {},
   "outputs": [
    {
     "name": "stdout",
     "output_type": "stream",
     "text": [
      "2.5\n",
      "0.598\n"
     ]
    }
   ],
   "source": [
    "from math import * \n",
    "s = 1\n",
    "i = 1\n",
    "x = float(input())\n",
    "sinx = x\n",
    "fitem = e = x\n",
    "d = 1\n",
    "while(fitem > 10 ** -7):\n",
    "    e = e * (x ** 2)\n",
    "    d = d * (i + 1) * (i + 2)\n",
    "    i = i + 2\n",
    "    fitem = e / d\n",
    "    s = -s\n",
    "    sinx += s * fitem\n",
    "print(\"%.3f\"% sinx)\n"
   ]
  }
 ],
 "metadata": {
  "kernelspec": {
   "display_name": "Python 3 (ipykernel)",
   "language": "python",
   "name": "python3"
  },
  "language_info": {
   "codemirror_mode": {
    "name": "ipython",
    "version": 3
   },
   "file_extension": ".py",
   "mimetype": "text/x-python",
   "name": "python",
   "nbconvert_exporter": "python",
   "pygments_lexer": "ipython3",
   "version": "3.9.12"
  }
 },
 "nbformat": 4,
 "nbformat_minor": 5
}
