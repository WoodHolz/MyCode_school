{
 "cells": [
  {
   "cell_type": "code",
   "execution_count": 14,
   "id": "1e6d23c3",
   "metadata": {
    "scrolled": false
   },
   "outputs": [
    {
     "name": "stdout",
     "output_type": "stream",
     "text": [
      "this is a line\\rhey\\n es\n"
     ]
    }
   ],
   "source": [
    "print(r\"this is a line\\rhey\\n es\")"
   ]
  },
  {
   "cell_type": "markdown",
   "id": "e91cc797",
   "metadata": {},
   "source": []
  },
  {
   "cell_type": "code",
   "execution_count": null,
   "id": "27f29e1c",
   "metadata": {},
   "outputs": [],
   "source": [
    "print(\"Please enter the number:\\n\")\n",
    "a, b = eval(input(\"a\"))"
   ]
  }
 ],
 "metadata": {
  "kernelspec": {
   "display_name": "Python 3.10.6 64-bit",
   "language": "python",
   "name": "python3"
  },
  "language_info": {
   "codemirror_mode": {
    "name": "ipython",
    "version": 3
   },
   "file_extension": ".py",
   "mimetype": "text/x-python",
   "name": "python",
   "nbconvert_exporter": "python",
   "pygments_lexer": "ipython3",
   "version": "3.10.6"
  },
  "vscode": {
   "interpreter": {
    "hash": "dd62912b09469893fdbfa48ce0a99c5daf8bbcd4d531d11697db5bc91d7a6208"
   }
  }
 },
 "nbformat": 4,
 "nbformat_minor": 5
}
