{
 "cells": [
  {
   "cell_type": "code",
   "execution_count": 41,
   "id": "e384760a",
   "metadata": {},
   "outputs": [
    {
     "name": "stdout",
     "output_type": "stream",
     "text": [
      "3\n",
      "f(3.00) = 19.10\n"
     ]
    }
   ],
   "source": [
    "import math\n",
    "try:\n",
    "    x = float(input())\n",
    "    if(x > 0):\n",
    "        ans = math.cos(x) + math.e ** x\n",
    "        print('f(%.2f)'%x, '=', \\\n",
    "              '{:.2f}'.format(ans))\n",
    "    else:\n",
    "        ans = 0\n",
    "        print('f(%.2f)'%x, '=',\\\n",
    "              '{:.2f}'.format(ans))\n",
    "except:\n",
    "    print('Input Error')"
   ]
  },
  {
   "cell_type": "markdown",
   "id": "e834b140",
   "metadata": {},
   "source": [
    "异常处理的部分知识"
   ]
  },
  {
   "cell_type": "code",
   "execution_count": 58,
   "id": "727434c4",
   "metadata": {},
   "outputs": [
    {
     "name": "stdout",
     "output_type": "stream",
     "text": [
      "3 2 1\n",
      "Not A Valid Triangle!\n"
     ]
    }
   ],
   "source": [
    "import math\n",
    "a, b, c= map(float, input().split())\n",
    "r = (a + b + c) / 2\n",
    "s = math.sqrt(r * (r - a) * (r - b) * (r - c))\n",
    "if(s > 0):\n",
    "    print('area={:.2f}'. format(s))\n",
    "else:\n",
    "    print('Not A Valid Triangle!')"
   ]
  },
  {
   "cell_type": "code",
   "execution_count": 43,
   "id": "88e998b8",
   "metadata": {},
   "outputs": [
    {
     "name": "stdout",
     "output_type": "stream",
     "text": [
      "0\n",
      "g(0.000) = 0.000\n"
     ]
    }
   ],
   "source": [
    "x = float(input())\n",
    "#print first\n",
    "#print('g({:.3f})'.format(x), '=')\n",
    "if(0 == x):\n",
    "    print('g({:.3f})'.format(x), '=', '0.000')\n",
    "else:\n",
    "    a = 1 / (2 * x)\n",
    "    print('g({:.3f})'.format(x), '=',\\\n",
    "          '{:.3f}'. format(a))"
   ]
  },
  {
   "cell_type": "code",
   "execution_count": 46,
   "id": "fc5ee611",
   "metadata": {
    "scrolled": true
   },
   "outputs": [
    {
     "name": "stdout",
     "output_type": "stream",
     "text": [
      "hello world\n",
      "1    2    3\n"
     ]
    }
   ],
   "source": [
    "print('hello',end=' ')\n",
    "print('world')\n",
    "print(1, 2, 3, sep='    ')"
   ]
  },
  {
   "cell_type": "markdown",
   "id": "b18de3c9",
   "metadata": {},
   "source": [
    "sep end的小知识点"
   ]
  },
  {
   "cell_type": "code",
   "execution_count": 17,
   "id": "9255b6ed",
   "metadata": {},
   "outputs": [
    {
     "name": "stdout",
     "output_type": "stream",
     "text": [
      "$30\n",
      "￥210.00\n"
     ]
    }
   ],
   "source": [
    "s = input()\n",
    "b = ''\n",
    "for i in range(1, len(s)):\n",
    "    b += s[i]\n",
    "if s[0] == '$':\n",
    "    print('￥' + '%.2f'% (7 * float(b)))\n",
    "elif s[0] == '￥':\n",
    "    print('$' + '{:.2f}'. format(float(b) / 7))\n",
    "else:\n",
    "    print('输入格式错误')"
   ]
  },
  {
   "cell_type": "code",
   "execution_count": 51,
   "id": "6d4bfeb6",
   "metadata": {},
   "outputs": [
    {
     "name": "stdout",
     "output_type": "stream",
     "text": [
      "36.8c\n",
      "98.24F\n"
     ]
    }
   ],
   "source": [
    "s = input()\n",
    "a = ''\n",
    "for i in range(len(s) - 1):\n",
    "    a += s[i]\n",
    "a = float(a)\n",
    "#print(a)\n",
    "#print(s[len(s) - 1])\n",
    "if s[len(s) - 1] == 'F' or \\\n",
    " s[len(s) - 1] == 'f':\n",
    "    print('%.2f'% ((a - 32) / 1.8) + 'C')\n",
    "elif s[len(s) - 1] == 'C' or \\\n",
    " s[len(s) - 1] == 'c':\n",
    "    print('{:.2f}'.format(a * 1.8 + 32) + 'F')\n",
    "else:\n",
    "    print('Error')"
   ]
  },
  {
   "cell_type": "code",
   "execution_count": 97,
   "id": "6309ffd9",
   "metadata": {
    "scrolled": true
   },
   "outputs": [
    {
     "name": "stdout",
     "output_type": "stream",
     "text": [
      "1\n",
      "0.1\n"
     ]
    }
   ],
   "source": [
    "x = float(input())\n",
    "if x < 0:\n",
    "    profit = 0\n",
    "elif x <= 100000:\n",
    "    profit = x * 0.1 \n",
    "elif x > 100000 and x <= 200000:\n",
    "    profit = 0.075 * (x - 100000) + 10000\n",
    "elif x > 200000 and x <= 400000:\n",
    "    profit = 0.05 * (x - 200000) + 17500\n",
    "elif x > 400000 and x <= 600000:\n",
    "    profit = 0.03 * (x - 400000) + 27500\n",
    "elif x > 600000 and x <= 1000000:\n",
    "    profit = 0.015 * (x - 600000) + 33500\n",
    "else:\n",
    "    profit = 0.01 * (x - 1000000) + 39500\n",
    "print(profit)"
   ]
  },
  {
   "cell_type": "markdown",
   "id": "c46b39da",
   "metadata": {},
   "source": [
    "上题注意，因为该题为C语言基础题目，输出和python有一些区别`"
   ]
  },
  {
   "cell_type": "code",
   "execution_count": 7,
   "id": "a2e196d3",
   "metadata": {},
   "outputs": [
    {
     "name": "stdout",
     "output_type": "stream",
     "text": [
      "120\n",
      "Bike\n"
     ]
    }
   ],
   "source": [
    "x = float(input())\n",
    "a = 50 + x / 3\n",
    "b = x / 1.2\n",
    "if a > b:\n",
    "    print('Walk')\n",
    "elif a < b:\n",
    "    print('Bike')\n",
    "else:\n",
    "    print('All')"
   ]
  },
  {
   "cell_type": "code",
   "execution_count": 17,
   "id": "728d4577",
   "metadata": {},
   "outputs": [
    {
     "name": "stdout",
     "output_type": "stream",
     "text": [
      "200 120\n",
      "Exceed 67%. License Revoked\n"
     ]
    }
   ],
   "source": [
    "s = input()\n",
    "a = [float(x) for x in s.split(' ')]\n",
    "ans = (a[0] - a[1]) / a[1]\n",
    "if(ans < 0.1):\n",
    "    print('OK')\n",
    "elif 0.5 > ans >= 0.1:\n",
    "    print('Exceed', '{:.0f}%.'.format(ans * 100), \\\n",
    "         'Ticket 200')\n",
    "elif ans >= 0.5:\n",
    "     print('Exceed', '{:.0f}%.'.format(ans * 100), \\\n",
    "         'License Revoked')"
   ]
  },
  {
   "cell_type": "markdown",
   "id": "93a2603e",
   "metadata": {},
   "source": [
    "float(input())\n",
    "input().float()\n",
    "???需要学习了"
   ]
  },
  {
   "cell_type": "code",
   "execution_count": 52,
   "id": "21169b63",
   "metadata": {},
   "outputs": [
    {
     "name": "stdout",
     "output_type": "stream",
     "text": [
      "-7 % 2\n",
      "1\n"
     ]
    }
   ],
   "source": [
    "a = input().split()\n",
    "#print(a[0], a[1], a[2])\n",
    "b = int(a[0]); c = int(a[2]); sig = a[1]\n",
    "if sig == '+':\n",
    "    b += c\n",
    "    print(b)\n",
    "elif sig == '-':\n",
    "    b -= c\n",
    "    print(b)\n",
    "elif sig == '*':\n",
    "    b *= c\n",
    "    print(b)\n",
    "elif sig == '/':\n",
    "    if(c != 0):    \n",
    "        b /= c\n",
    "        print(b)\n",
    "    else: print('ERROR')\n",
    "elif sig == '%':\n",
    "    if(c != 0):\n",
    "        b %= c\n",
    "        print(b)\n",
    "    else: print('ERROR')\n",
    "else:\n",
    "    print('ERROR')"
   ]
  },
  {
   "cell_type": "code",
   "execution_count": 65,
   "id": "c8099528",
   "metadata": {},
   "outputs": [
    {
     "name": "stdout",
     "output_type": "stream",
     "text": [
      "170\n",
      "70\n",
      "BMI = 24.38\n",
      "体重最佳\n"
     ]
    }
   ],
   "source": [
    "wgt = float(input())\n",
    "high = float(input())\n",
    "bmi = wgt * 703 / (high ** 2)\n",
    "#print(bmi)\n",
    "print('BMI = {:.2f}'. format(int(bmi * 100) /100))\n",
    "if bmi < 18.5: print('体重过轻')\n",
    "elif 18.5 <= bmi <= 25: print('体重最佳')\n",
    "else: print('体重超重')"
   ]
  },
  {
   "cell_type": "code",
   "execution_count": 41,
   "id": "c9de9979",
   "metadata": {
    "scrolled": true
   },
   "outputs": [
    {
     "name": "stdout",
     "output_type": "stream",
     "text": [
      "(3.5,-2)\n",
      "第四象限\n"
     ]
    }
   ],
   "source": [
    "s = input().split(',')\n",
    "a = s[0].split('(')\n",
    "b = s[1].split(')')\n",
    "x = float(a[1])\n",
    "y = float(b[0])\n",
    "if x > 0:\n",
    "    if y > 0: print('第一象限')\n",
    "    elif y < 0: print('第四象限')\n",
    "    else: print('error') \n",
    "elif x < 0:\n",
    "    if y > 0: print('第二象限')\n",
    "    elif y < 0: print('第三象限')\n",
    "    else: print('error')"
   ]
  },
  {
   "cell_type": "code",
   "execution_count": 40,
   "id": "7d8958d9",
   "metadata": {},
   "outputs": [
    {
     "name": "stdout",
     "output_type": "stream",
     "text": [
      "(3.5,-2)\n",
      "3.5 -2\n"
     ]
    }
   ],
   "source": [
    "x,y = eval(input())\n",
    "print(x, y)"
   ]
  },
  {
   "cell_type": "code",
   "execution_count": 39,
   "id": "98d747f1",
   "metadata": {},
   "outputs": [
    {
     "name": "stdout",
     "output_type": "stream",
     "text": [
      "12334\n",
      "no\n"
     ]
    }
   ],
   "source": [
    "s = input()\n",
    "#print(len(s))\n",
    "l = len(s)\n",
    "a = 0\n",
    "\n",
    "for i in range(l) :\n",
    "    a += 1\n",
    "    if s[i] != s[l -1 - i]:\n",
    "        print('no')\n",
    "        break;\n",
    "if(a == 5):\n",
    "    print('yes')\n"
   ]
  },
  {
   "cell_type": "code",
   "execution_count": 17,
   "id": "b1f51e93",
   "metadata": {},
   "outputs": [
    {
     "name": "stdout",
     "output_type": "stream",
     "text": [
      "1400 2\n",
      "28\n"
     ]
    }
   ],
   "source": [
    "x = input().split()\n",
    "yr = int(x[0])\n",
    "mon = int(x[1])\n",
    "#print(yr,mon)\n",
    "if mon > 12: print('Error')\n",
    "else:\n",
    "    if (yr % 4 == 0 and yr % 100 != 0) or \\\n",
    "     yr % 400 == 0:\n",
    "        feb = 29\n",
    "    else: feb = 28\n",
    "    if 1 == mon or 3 == mon or \\\n",
    "     5 == mon or 7 == mon or \\\n",
    "     8 == mon or 10 == mon or \\\n",
    "     12 == mon:\n",
    "        print('31')\n",
    "    elif 4 == mon or 6 == mon or \\\n",
    "     9 == mon or 11 == mon:\n",
    "        print('30')\n",
    "    else: print(feb)"
   ]
  }
 ],
 "metadata": {
  "kernelspec": {
   "display_name": "Python 3 (ipykernel)",
   "language": "python",
   "name": "python3"
  },
  "language_info": {
   "codemirror_mode": {
    "name": "ipython",
    "version": 3
   },
   "file_extension": ".py",
   "mimetype": "text/x-python",
   "name": "python",
   "nbconvert_exporter": "python",
   "pygments_lexer": "ipython3",
   "version": "3.9.12"
  }
 },
 "nbformat": 4,
 "nbformat_minor": 5
}
