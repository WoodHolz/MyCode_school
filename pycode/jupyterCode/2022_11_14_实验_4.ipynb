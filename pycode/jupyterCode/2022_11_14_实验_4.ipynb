{
 "cells": [
  {
   "cell_type": "code",
   "execution_count": 6,
   "id": "c36f8574",
   "metadata": {
    "scrolled": true
   },
   "outputs": [
    {
     "name": "stdout",
     "output_type": "stream",
     "text": [
      "1 2 3\n",
      "4 3 2\n",
      "[1, 2, 3, 4]\n"
     ]
    }
   ],
   "source": [
    "# 3-1 合并两个列表并去重\n",
    "alist = list(map(int, input().split()))\n",
    "blist = list(map(int, input().split()))\n",
    "for i in blist:\n",
    "    if i in alist:\n",
    "        alist.remove(i)\n",
    "    alist.append(i)\n",
    "print(sorted(alist))"
   ]
  },
  {
   "cell_type": "code",
   "execution_count": 38,
   "id": "c56488f2",
   "metadata": {},
   "outputs": [
    {
     "name": "stdout",
     "output_type": "stream",
     "text": [
      "列表逆序结果为：[7, 89, 63, 79, 6, 48, 3, 12]\n",
      "列表升序排序结果为：[3, 6, 7, 12, 48, 63, 79, 89]\n",
      "列表降序排序结果为：[89, 79, 63, 48, 12, 7, 6, 3]\n"
     ]
    }
   ],
   "source": [
    "# 3-2 列表排序、逆序\n",
    "alist = [12, 3, 48, 6, 79, 63, 89, 7]\n",
    "blist = []\n",
    "'''\n",
    "i = len(alist) - 1\n",
    "while i > -1:\n",
    "    blist.append(alist[i])\n",
    "    i -= 1\n",
    "    #print(blist)\n",
    "'''\n",
    "alist.reverse()\n",
    "print('列表逆序结果为：', alist, sep = '')\n",
    "#print(1)\n",
    "print('列表升序排序结果为：', sorted(alist), \\\n",
    "     sep = '')\n",
    "blist = sorted(alist)\n",
    "blist.reverse()\n",
    "print('列表降序排序结果为：', blist, \\\n",
    "     sep = '')"
   ]
  },
  {
   "cell_type": "code",
   "execution_count": 12,
   "id": "d19255a1",
   "metadata": {},
   "outputs": [
    {
     "name": "stdout",
     "output_type": "stream",
     "text": [
      "3,2,3,4,5\n",
      "0\n",
      "2\n",
      "3\n",
      "4\n"
     ]
    }
   ],
   "source": [
    "#3-3 找列表中最大元素的下标\n",
    "a = list(map(int, input().split(',')))\n",
    "pos = []; c = 0\n",
    "max = a[0]\n",
    "for i in a:\n",
    "    if max < i: max = i\n",
    "    c += 1\n",
    "for i in a:\n",
    "    if "
   ]
  },
  {
   "cell_type": "code",
   "execution_count": 19,
   "id": "f8ff8fa7",
   "metadata": {},
   "outputs": [
    {
     "name": "stdout",
     "output_type": "stream",
     "text": [
      "3,3,2\n",
      "[]\n"
     ]
    }
   ],
   "source": [
    "#3-3 找列表中最大元素的下标\n",
    "a = list(map(int, input().split(',')))\n",
    "maxps = 0; minps = 0; c = 0\n",
    "max = a[0]; num = []\n"
   ]
  },
  {
   "cell_type": "code",
   "execution_count": 5,
   "id": "db37f845",
   "metadata": {
    "scrolled": true
   },
   "outputs": [
    {
     "name": "stdout",
     "output_type": "stream",
     "text": [
      "a\n",
      "6\n",
      "['2', '3', '0', '1', '5', 'a', 'a']\n"
     ]
    }
   ],
   "source": [
    "#3-4 列表插入\n",
    "ls = ['2', '3', '0', '1', '5']\n",
    "s = input()\n",
    "i = int(input())\n",
    "if i >= 5: ls.append(s); ls.append(s)\n",
    "else: ls.insert(i, s); ls.append(s)\n",
    "print(ls)\n"
   ]
  },
  {
   "cell_type": "code",
   "execution_count": 11,
   "id": "c85cc7b5",
   "metadata": {},
   "outputs": [
    {
     "name": "stdout",
     "output_type": "stream",
     "text": [
      "pmispsissippi\n",
      "s p\n",
      "11 p\n",
      "10 p\n",
      "8 s\n",
      "7 s\n",
      "5 s\n",
      "4 p\n",
      "3 s\n",
      "0 p\n"
     ]
    }
   ],
   "source": [
    "#3-5 输出字母在字符串中位置索引\n",
    "s = list(input())\n",
    "a, b = input().split(' ')\n",
    "s.reverse(); c = 0\n",
    "for i in s:\n",
    "    c += 1\n",
    "    if i == a: print(len(s) - c, a)\n",
    "    elif i == b: print(len(s) - c, b)"
   ]
  }
 ],
 "metadata": {
  "kernelspec": {
   "display_name": "Python 3 (ipykernel)",
   "language": "python",
   "name": "python3"
  },
  "language_info": {
   "codemirror_mode": {
    "name": "ipython",
    "version": 3
   },
   "file_extension": ".py",
   "mimetype": "text/x-python",
   "name": "python",
   "nbconvert_exporter": "python",
   "pygments_lexer": "ipython3",
   "version": "3.9.12"
  }
 },
 "nbformat": 4,
 "nbformat_minor": 5
}
