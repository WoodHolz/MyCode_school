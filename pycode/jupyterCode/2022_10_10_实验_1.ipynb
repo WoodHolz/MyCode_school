{
 "cells": [
  {
   "cell_type": "code",
   "execution_count": 32,
   "id": "9df97736",
   "metadata": {},
   "outputs": [
    {
     "name": "stdout",
     "output_type": "stream",
     "text": [
      "3\n",
      "3\n",
      "3 + 3 = 6\n",
      "3 - 3 = 0\n",
      "3 * 3 = 9\n",
      "3 / 3 = 1\n"
     ]
    }
   ],
   "source": [
    "#! /usr/bin/python3\n",
    "a = input()\n",
    "b = input()\n",
    "print(\"%d + %d = %d\"%(int(a), int(b), int(a) + int(b)))\n",
    "print(\"%d - %d = %d\"%(int(a), int(b), int(a) - int(b)))\n",
    "print(\"%d * %d = %d\"%(int(a), int(b), int(a) * int(b)))\n",
    "print(\"%d / %d = %d\"%(int(a), int(b), int(a) // int(b)))"
   ]
  },
  {
   "cell_type": "code",
   "execution_count": 68,
   "id": "6da4b6a9",
   "metadata": {},
   "outputs": [
    {
     "name": "stdout",
     "output_type": "stream",
     "text": [
      "3, 4\n",
      "7\n"
     ]
    }
   ],
   "source": [
    "a, b= eval(input())\n",
    "print(a + b)"
   ]
  },
  {
   "cell_type": "markdown",
   "id": "0faac2f4",
   "metadata": {},
   "source": [
    "eval的用法如上，请注意分隔格式"
   ]
  },
  {
   "cell_type": "code",
   "execution_count": 1,
   "id": "02d95ab8",
   "metadata": {},
   "outputs": [
    {
     "name": "stdout",
     "output_type": "stream",
     "text": [
      "3\n",
      "1\n",
      "3 + 1 = 31\n",
      "3 - 1 = 2\n",
      "3 * 1 = 3\n",
      "3 / 1 = 3\n"
     ]
    }
   ],
   "source": [
    "#! /usr/bin/python3\n",
    "a = input()\n",
    "b = input()\n",
    "print(a, \"+\", b, \"=\", int(a) + int(b))\n",
    "print(a, \"-\", b, \"=\", int(a) - int(b))\n",
    "print(a, \"*\", b, \"=\", int(a) * int(b))\n",
    "print(a, \"/\", b, \"=\", int(a) // int(b))"
   ]
  },
  {
   "cell_type": "code",
   "execution_count": 31,
   "id": "58eb9fcf",
   "metadata": {},
   "outputs": [
    {
     "name": "stdout",
     "output_type": "stream",
     "text": [
      "2\n",
      "圆面积是12.57\n"
     ]
    }
   ],
   "source": [
    "#! /usr/bin/python3\n",
    "import math\n",
    "r  = input()\n",
    "print(\"圆面积是\" + '{:.2f}'.format((math.pi) * float(r) ** 2))"
   ]
  },
  {
   "cell_type": "code",
   "execution_count": 67,
   "id": "00522fb8",
   "metadata": {},
   "outputs": [
    {
     "name": "stdout",
     "output_type": "stream",
     "text": [
      "33 44\n",
      "a=44 b=33\n"
     ]
    }
   ],
   "source": [
    "#! /usr/bin/python3\n",
    "str = input()\n",
    "a = [int(x) for x in str.split()]\n",
    "print('a=%d'%int(a[1]), 'b=%d'%int(a[0]))"
   ]
  },
  {
   "cell_type": "markdown",
   "id": "0e569353",
   "metadata": {},
   "source": [
    "请注意上例中循环和split函数的作用"
   ]
  },
  {
   "cell_type": "code",
   "execution_count": 71,
   "id": "baa69717",
   "metadata": {},
   "outputs": [
    {
     "name": "stdout",
     "output_type": "stream",
     "text": [
      "3 4\n",
      "a=4 b=3\n"
     ]
    }
   ],
   "source": [
    "#! /usr/bin/python3\n",
    "a, b = map(int, input().split())\n",
    "print('a=%d'% b, 'b=%d'% a)"
   ]
  },
  {
   "cell_type": "markdown",
   "id": "8144b28d",
   "metadata": {},
   "source": [
    "map函数需要了解"
   ]
  },
  {
   "cell_type": "code",
   "execution_count": 72,
   "id": "6f247da4",
   "metadata": {},
   "outputs": [
    {
     "name": "stdout",
     "output_type": "stream",
     "text": [
      "3 5\n",
      "s=-2\n"
     ]
    }
   ],
   "source": [
    "#! /usr/bin/python3\n",
    "a, b = map(int, input().split())\n",
    "print('s=%d'%(a-b))"
   ]
  },
  {
   "cell_type": "code",
   "execution_count": 5,
   "id": "87b1d873",
   "metadata": {},
   "outputs": [
    {
     "name": "stdout",
     "output_type": "stream",
     "text": [
      "2\n",
      "L=6.28\n"
     ]
    }
   ],
   "source": [
    "import math\n",
    "r = float(input())\n",
    "print('L=' + '%.2f'% (r * math.pi))"
   ]
  },
  {
   "cell_type": "code",
   "execution_count": 9,
   "id": "c7d2eb1e",
   "metadata": {},
   "outputs": [
    {
     "name": "stdout",
     "output_type": "stream",
     "text": [
      "go\n",
      "3\n",
      "go!go!go!\n"
     ]
    }
   ],
   "source": [
    "str = input()\n",
    "n = int(input())\n",
    "i = 0\n",
    "print((str + '!') * n)"
   ]
  },
  {
   "cell_type": "markdown",
   "id": "71f120fc",
   "metadata": {},
   "source": [
    "循环的知识需要线下了解"
   ]
  },
  {
   "cell_type": "code",
   "execution_count": 11,
   "id": "06e0a351",
   "metadata": {},
   "outputs": [
    {
     "name": "stdout",
     "output_type": "stream",
     "text": [
      "35\n",
      "95.0\n"
     ]
    }
   ],
   "source": [
    "a = float(input())\n",
    "print(a * 1.8 + 32)"
   ]
  },
  {
   "cell_type": "code",
   "execution_count": 3,
   "id": "5e5a0118",
   "metadata": {},
   "outputs": [
    {
     "name": "stdout",
     "output_type": "stream",
     "text": [
      "3.14159265\n",
      "10\n",
      "      abc 123\n",
      "3.14\n",
      "3.141593e+00 3.141593E+00 314.16%\n",
      "1010 a\n",
      "ABC 123\n",
      "             abc 123\n",
      "******abc 123*******\n",
      "3.14159265 + 10 = 13.14159265\n"
     ]
    }
   ],
   "source": [
    "a = float(input())\n",
    "b = int(input())\n",
    "c = input().strip()\n",
    "#print(\"%.2f\" % a) \n",
    "print('{:.2f}'.format(a))\n",
    "#print('{:e}'.format(a), '{:E}'.format(a), '{:.2%}'.format(a))\n",
    "print(\"%e\" % a, \"%E\" % a, '{:.2f}%'.format(100 * a))\n",
    "print('{0:b}'.format(b), '{0:x}'.format(b))\n",
    "#print(c)\n",
    "print(c.upper())\n",
    "print(\"%20s\"%(c))\n",
    "print(c.center(20, '*'))\n",
    "print(a,\"+\",b,\"=\",a+b)\n"
   ]
  },
  {
   "cell_type": "code",
   "execution_count": null,
   "id": "0cafb35a",
   "metadata": {},
   "outputs": [],
   "source": [
    "a = 3\n",
    "b"
   ]
  }
 ],
 "metadata": {
  "kernelspec": {
   "display_name": "Python 3 (ipykernel)",
   "language": "python",
   "name": "python3"
  },
  "language_info": {
   "codemirror_mode": {
    "name": "ipython",
    "version": 3
   },
   "file_extension": ".py",
   "mimetype": "text/x-python",
   "name": "python",
   "nbconvert_exporter": "python",
   "pygments_lexer": "ipython3",
   "version": "3.9.12"
  }
 },
 "nbformat": 4,
 "nbformat_minor": 5
}
